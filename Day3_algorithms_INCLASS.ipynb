{
 "cells": [
  {
   "cell_type": "markdown",
   "metadata": {},
   "source": [
    "# Algorithms, Binary Search & Linked Lists"
   ]
  },
  {
   "cell_type": "markdown",
   "metadata": {},
   "source": [
    "## Tasks Today:\n",
    " \n",
    "1) <b>In-Place Algorithms</b> <br>\n",
    " &nbsp;&nbsp;&nbsp;&nbsp; a) Syntax <br>\n",
    " &nbsp;&nbsp;&nbsp;&nbsp; a) Out of Place Algorithm <br>\n",
    " &nbsp;&nbsp;&nbsp;&nbsp; b) In-Class Exercise #1 <br>\n",
    "2) <b>Two Pointers</b> <br>\n",
    "3) <b>Linked Lists</b> <br>\n",
    "4) <b>Merge Sort</b> <br>\n",
    " &nbsp;&nbsp;&nbsp;&nbsp; a) Video on Algorithms <br>\n",
    " &nbsp;&nbsp;&nbsp;&nbsp; b) How it Works <br>\n",
    "5) <b>Exercises</b> <br>\n",
    " &nbsp;&nbsp;&nbsp;&nbsp; a) Exercise #1 - Reverse a List in Place Using an In-Place Algorithm <br>\n",
    " &nbsp;&nbsp;&nbsp;&nbsp; b) Exercise #2 - Find Distinct Words <br>\n",
    " &nbsp;&nbsp;&nbsp;&nbsp; c) Exercise #3 - Write a program to implement a Linear Search Algorithm. <br>"
   ]
  },
  {
   "cell_type": "markdown",
   "metadata": {},
   "source": [
    "## In-Place Algorithms"
   ]
  },
  {
   "cell_type": "markdown",
   "metadata": {},
   "source": [
    "#### Syntax"
   ]
  },
  {
   "cell_type": "code",
   "execution_count": 9,
   "metadata": {},
   "outputs": [
    {
     "name": "stdout",
     "output_type": "stream",
     "text": [
      "[1, 2, 3, 4, 5]\n",
      "[5, 4, 3, 2, 1]\n",
      "[1, 2, 3, 4, 5]\n",
      "\n",
      "\n",
      "First - [1, 2, 3]\n",
      "after - [3, 2, 1]\n",
      "\n",
      "\n",
      "First - [3, 4, 5]\n",
      "after - [5, 4, 3]\n"
     ]
    }
   ],
   "source": [
    "some_list = [5, 4, 3, 2, 1] #In-Place  returns a copy\n",
    "print(sorted(some_list)) #this is a copy\n",
    "print(some_list) #original stays the same\n",
    "\n",
    "some_list.sort() #changes the original list\n",
    "print(some_list)\n",
    "\n",
    "print('\\n')\n",
    "\n",
    "def swap(arr, a, b, c):\n",
    "    tempa = arr[a]\n",
    "    tempc = arr[c]\n",
    "    arr[a] = tempc\n",
    "    arr[c] = tempa\n",
    "\n",
    "examplelist = [1,2,3]\n",
    "print(f'First - {examplelist}')\n",
    "\n",
    "swap(examplelist, 0,1,2)\n",
    "print(f'after - {examplelist}')\n",
    "\n",
    "print('\\n')\n",
    "\n",
    "def swap_de(arr, a, b, c):\n",
    "    arr[a], arr[b], arr[c] = arr[c], arr[b], arr[a]\n",
    "    \n",
    "examplelist2 = [3, 4, 5]\n",
    "print(f'First - {examplelist2}')\n",
    "\n",
    "swap_de(examplelist2, 0, 1, 2)\n",
    "print(f'after - {examplelist2}')"
   ]
  },
  {
   "cell_type": "markdown",
   "metadata": {},
   "source": [
    "#### Out of Place Algorithm"
   ]
  },
  {
   "cell_type": "code",
   "execution_count": 12,
   "metadata": {},
   "outputs": [
    {
     "name": "stdout",
     "output_type": "stream",
     "text": [
      "[4, 234, 534, 667, 0, 6, 76, 88]\n",
      "[4, 88, 534, 667, 0, 6, 76, 234]\n"
     ]
    }
   ],
   "source": [
    "def swap_de1(arr, a, b, c):\n",
    "    copy = arr[:]\n",
    "    copy[a], copy[b], copy[c] = copy[c], copy[b], copy[a]\n",
    "    return copy\n",
    "exlist3 = [4, 234, 534, 667, 0, 6, 76, 88]\n",
    "print(exlist3)\n",
    "print(swap_de1(exlist3, 1, 2, 7))\n"
   ]
  },
  {
   "cell_type": "markdown",
   "metadata": {},
   "source": [
    "#### In-Class Exercise #1 <br>\n",
    "<p>Write a function that takes in four arguments (list, index1, index2, index3), and swaps those three positions in the list passed in.</p>"
   ]
  },
  {
   "cell_type": "code",
   "execution_count": 34,
   "metadata": {},
   "outputs": [
    {
     "name": "stdout",
     "output_type": "stream",
     "text": [
      "First - [10, 4, 3, 8, 4, 2, 6]\n",
      "after - [3, 10, 4, 8, 4, 2, 6]\n"
     ]
    }
   ],
   "source": [
    "l_1 = [10, 4, 3, 8, 4, 2, 6]\n",
    "\n",
    "# def swapper(arr, a, b, c):  -something about the ordering of a-c c-a b-c is weird\n",
    "#     tempa = arr[a]\n",
    "#     tempb = arr[b]\n",
    "#     tempc = arr[c]\n",
    "#     arr[a] = tempc\n",
    "#     arr[b] = tempa\n",
    "#     arr[c] = tempb\n",
    "    \n",
    "# print(f'First - {l_1}')\n",
    "# swapper(l_1, 0, 1, 2)\n",
    "# print(f'after - {l_1}')\n",
    "\n",
    "def swapper1(arr, a, b, c):\n",
    "    arr[a], arr[b], arr[c] = arr[c], arr[a], arr[b]\n",
    "    \n",
    "print(f'First - {l_1}')\n",
    "swapper1(l_1, 0, 1, 2)\n",
    "print(f'after - {l_1}')\n",
    "\n"
   ]
  },
  {
   "cell_type": "markdown",
   "metadata": {},
   "source": [
    "## Two Pointers"
   ]
  },
  {
   "cell_type": "markdown",
   "metadata": {},
   "source": [
    "#### Syntax"
   ]
  },
  {
   "cell_type": "code",
   "execution_count": 37,
   "metadata": {},
   "outputs": [
    {
     "name": "stdout",
     "output_type": "stream",
     "text": [
      " on your left - 0\t and to your right - 6\n",
      " on your left - 1\t and to your right - 5\n",
      " on your left - 2\t and to your right - 4\n",
      "[6, 2, 4, 8, 4, 10, 3]\n"
     ]
    }
   ],
   "source": [
    "# arr[a], arr[b]  = arr[b], arr[a]\n",
    "\n",
    "def dos_points(arr):\n",
    "    left = 0\n",
    "    right = len(arr) -1\n",
    "    while left < right:\n",
    "        print(f' on your left - {left}\\t and to your right - {right}')\n",
    "        arr[left], arr[right] = arr[right], arr[left]\n",
    "        left += 1\n",
    "        right -=1\n",
    "    return arr\n",
    "              \n",
    "dos_points(l_1)\n",
    "print(l_1)"
   ]
  },
  {
   "cell_type": "markdown",
   "metadata": {},
   "source": [
    "#### Video of Algorithms <br>\n",
    "<p>Watch the video about algorithms.</p>\n",
    "\n",
    "https://www.youtube.com/watch?v=Q9HjeFD62Uk\n",
    "\n",
    "https://www.youtube.com/watch?v=kPRA0W1kECg\n",
    "\n",
    "https://www.youtube.com/watch?v=ZZuD6iUe3Pc"
   ]
  },
  {
   "cell_type": "markdown",
   "metadata": {},
   "source": [
    "# Sorting Algorithms"
   ]
  },
  {
   "cell_type": "markdown",
   "metadata": {},
   "source": [
    "#### Bubble Sort\n",
    "\n",
    "Worst Case: O(n^2) Time - O(1) Space"
   ]
  },
  {
   "cell_type": "code",
   "execution_count": 51,
   "metadata": {},
   "outputs": [
    {
     "name": "stdout",
     "output_type": "stream",
     "text": [
      "x - 0\n",
      "y - 0\n",
      "y - 1\n",
      "y - 2\n",
      "y - 3\n",
      "y - 4\n",
      "x - 1\n",
      "y - 0\n",
      "y - 1\n",
      "y - 2\n",
      "y - 3\n",
      "y - 4\n",
      "x - 2\n",
      "y - 0\n",
      "y - 1\n",
      "y - 2\n",
      "y - 3\n",
      "y - 4\n",
      "x - 3\n",
      "y - 0\n",
      "y - 1\n",
      "y - 2\n",
      "y - 3\n",
      "y - 4\n",
      "x - 4\n",
      "y - 0\n",
      "y - 1\n",
      "y - 2\n",
      "y - 3\n",
      "y - 4\n",
      "x - 5\n",
      "y - 0\n",
      "y - 1\n",
      "y - 2\n",
      "y - 3\n",
      "y - 4\n",
      "[1, 2, 3, 4, 5, 6]\n",
      "[1, 2, 3, 4]\n"
     ]
    }
   ],
   "source": [
    "def swapper(arr, a, b):\n",
    "    arr[a], arr[b] = arr[b], arr[a]\n",
    "    \n",
    "def bubbles(arr):\n",
    "    for x in range(len(arr)):\n",
    "        print(f'x - {x}')\n",
    "        \n",
    "        for y in range(len(arr)-1): #watch for errors with len(arr) without using -1. might be out of bounds\n",
    "            print(f'y - {y}')\n",
    "            if arr[y] > arr[y+1]:\n",
    "                swapper(arr, y, y+1)\n",
    "        \n",
    "\n",
    "numlist= [6,5,4,3,2,1]       \n",
    "bubbles(numlist)\n",
    "print(numlist)\n",
    "\n",
    "def op_bubbles(arr):\n",
    "    is_sorted = False\n",
    "    while not is_sorted:\n",
    "        is_sorted = True\n",
    "        for i in range(len(arr) -1):\n",
    "            if arr[i] > arr[i+1]:\n",
    "                swapper(arr, i, i+1)\n",
    "                is_sorted = False\n",
    "    return arr\n",
    "\n",
    "numlist2 = [4,3,2,1]\n",
    "op_bubbles(numlist2)\n",
    "print(numlist2)\n"
   ]
  },
  {
   "cell_type": "markdown",
   "metadata": {},
   "source": [
    "##### Insertion Sort\n",
    "\n",
    "Worst Case: O(n^2) time - O(1)space"
   ]
  },
  {
   "cell_type": "code",
   "execution_count": 52,
   "metadata": {},
   "outputs": [
    {
     "name": "stdout",
     "output_type": "stream",
     "text": [
      "before - [2, 4, 3, 56, 77, 543, 0, 8]\n",
      "after - [0, 2, 3, 4, 8, 56, 77, 543]\n"
     ]
    }
   ],
   "source": [
    "numlist3 = [2, 4, 3,56, 77, 543, 0, 8]\n",
    "def swapper(arr, a, b):\n",
    "    arr[a], arr[b] = arr[b], arr[a]\n",
    "    \n",
    "def ins_sort(arr):\n",
    "    for i in range(len(arr)):\n",
    "        j = i\n",
    "        while j> 0 and arr[j] < arr[j - 1]:\n",
    "            swapper(arr, j, j - 1)\n",
    "            j -= 1\n",
    "            \n",
    "print(f'before - {numlist3}')\n",
    "ins_sort(numlist3)\n",
    "print(f'after - {numlist3}')"
   ]
  },
  {
   "cell_type": "markdown",
   "metadata": {},
   "source": [
    "## Merge Sort"
   ]
  },
  {
   "cell_type": "markdown",
   "metadata": {},
   "source": [
    "#### How it Works"
   ]
  },
  {
   "cell_type": "code",
   "execution_count": 59,
   "metadata": {},
   "outputs": [
    {
     "name": "stdout",
     "output_type": "stream",
     "text": [
      "[2, 4, 3, 56, 77, 543, 0, 8]\n",
      "split, split, split...\n",
      "split, split, split...\n",
      "split, split, split...\n",
      "split, split, split...\n",
      "merging array.. [2]\n",
      "split, split, split...\n",
      "merging array.. [4]\n",
      "merging array.. [2, 4]\n",
      "split, split, split...\n",
      "split, split, split...\n",
      "merging array.. [3]\n",
      "split, split, split...\n",
      "merging array.. [56]\n",
      "merging array.. [3, 56]\n",
      "merging array.. [2, 3, 4, 56]\n",
      "split, split, split...\n",
      "split, split, split...\n",
      "split, split, split...\n",
      "merging array.. [77]\n",
      "split, split, split...\n",
      "merging array.. [543]\n",
      "merging array.. [77, 543]\n",
      "split, split, split...\n",
      "split, split, split...\n",
      "merging array.. [0]\n",
      "split, split, split...\n",
      "merging array.. [8]\n",
      "merging array.. [0, 8]\n",
      "merging array.. [0, 8, 77, 543]\n",
      "merging array.. [0, 2, 3, 4, 8, 56, 77, 543]\n",
      "[0, 2, 3, 4, 8, 56, 77, 543]\n"
     ]
    }
   ],
   "source": [
    "#split list as far as you can, use 3 pointers to put it back in order, repeat\n",
    "\n",
    "# 1: split and keep splitting\n",
    "# 2: merge from left to right, each group together\n",
    "# 3: while merging, order matters\n",
    "# 4: keep going\n",
    "\n",
    "def merge_sort(arr):\n",
    "    print('split, split, split...')\n",
    "    if len(arr) > 1:\n",
    "        mid = len(arr) // 2  # easy way of getting midpoint\n",
    "        lefthalf = arr[:mid] # start at beginning then go to mid point\n",
    "        righthalf = arr[mid:]\n",
    "        \n",
    "        # call function recursively to continue splitting\n",
    "        # then we'll merge\n",
    "        merge_sort(lefthalf)\n",
    "        merge_sort(righthalf)\n",
    "\n",
    "# end 1\n",
    "# step 2\n",
    "    # compare left and right\n",
    "        i, j, k = 0, 0, 0\n",
    "\n",
    "        while i < len(lefthalf) and j < len(righthalf):\n",
    "            if lefthalf[i] < righthalf[j]:\n",
    "                arr[k] = lefthalf[i]\n",
    "                i += 1\n",
    "            #             k += 1\n",
    "            else:\n",
    "                arr[k] = righthalf[j]\n",
    "                j +=1\n",
    "            k +=1 # if run on this indent, will run for both instead of doing double like line 29\n",
    "# end 2 \n",
    "# step 3\n",
    "    # order matters\n",
    "        while i < len(lefthalf):\n",
    "            arr[k] = lefthalf[i]\n",
    "            i += 1\n",
    "            k += 1\n",
    "        while j < len(righthalf):\n",
    "            arr[k] = righthalf[j]\n",
    "            j +=1\n",
    "            k +=1\n",
    "\n",
    "# end 3\n",
    "# step 4\n",
    "    print(f'merging array.. {arr}')\n",
    "# end 4\n",
    "numlist4 = [2, 4, 3,56, 77, 543, 0, 8]\n",
    "print(numlist4)\n",
    "merge_sort(numlist4)\n",
    "print(numlist4)\n",
    "        "
   ]
  },
  {
   "cell_type": "markdown",
   "metadata": {},
   "source": [
    "# Binary Search\n",
    "\n",
    "The Binary Search algorithm works by finding the number in the middle of a given array and comparing it to the target. Given that the array is sorted\n",
    "\n",
    "* The worst case run time for this algorithm is `O(log(n))`"
   ]
  },
  {
   "cell_type": "code",
   "execution_count": 64,
   "metadata": {},
   "outputs": [
    {
     "name": "stdout",
     "output_type": "stream",
     "text": [
      " step - 1\n",
      " step - 2\n",
      " step - 3\n",
      "found target (7) at index - 3\n"
     ]
    }
   ],
   "source": [
    "nums = [0,4,6,7,15,35,45,57,68,90,99]\n",
    "def bin_search(arr, target):\n",
    "    left = 0\n",
    "    right = len(arr)-1\n",
    "    counter = 1\n",
    "    while left <= right:\n",
    "        print(f' step - {counter}')\n",
    "        mid = (left + right) // 2\n",
    "        maybe_target = arr[mid]\n",
    "        if target == maybe_target:\n",
    "            return f'found target ({target}) at index - {mid}'\n",
    "        elif target < maybe_target:\n",
    "            right = mid - 1  #if target was less than 50, gonna set right pointer to 49\n",
    "        elif target > maybe_target:\n",
    "            left = mid +1\n",
    "        counter  += 1\n",
    "    return f\"target is not in list\"\n",
    "print(bin_search(nums, 7))"
   ]
  },
  {
   "cell_type": "markdown",
   "metadata": {},
   "source": [
    "# Exercises"
   ]
  },
  {
   "cell_type": "markdown",
   "metadata": {},
   "source": [
    "### Exercise #1 <br>\n",
    "<p>Reverse the list below in-place using an in-place algorithm.<br>For extra credit: Reverse the strings at the same time.</p>"
   ]
  },
  {
   "cell_type": "code",
   "execution_count": 104,
   "metadata": {
    "scrolled": true
   },
   "outputs": [
    {
     "name": "stdout",
     "output_type": "stream",
     "text": [
      "['.', 'sentence', 'a', 'is', 'this']\n"
     ]
    }
   ],
   "source": [
    "words = ['this' , 'is', 'a', 'sentence', '.']\n",
    "#     EC ['.','ecnetnes','a', 'si' ,'siht']\n",
    "    \n",
    "def swapwords(arr, a, b, c , d, e):\n",
    "    arr[a], arr[b], arr[c], arr[d], arr[e] = arr[e], arr[d], arr[c], arr[b], arr[a]\n",
    "\n",
    "\n",
    "swapwords(words, 0, 1, 2, 3, 4)\n",
    "print(words)\n",
    "\n"
   ]
  },
  {
   "cell_type": "markdown",
   "metadata": {},
   "source": [
    "### Exercise #2 <br>\n",
    "<p>Create a function that counts how many distinct words are in the string below, then outputs a dictionary with the words as the key and the value as the amount of times that word appears in the string.<br>Should output:<br>{'a': 5,<br>\n",
    " 'abstract': 1,<br>\n",
    " 'an': 3,<br>\n",
    " 'array': 2, ... etc...</p>"
   ]
  },
  {
   "cell_type": "code",
   "execution_count": 172,
   "metadata": {},
   "outputs": [
    {
     "data": {
      "text/plain": [
       "{'in': 1,\n",
       " 'computing,': 1,\n",
       " 'a': 5,\n",
       " 'hash': 4,\n",
       " 'table': 2,\n",
       " 'map': 2,\n",
       " 'is': 1,\n",
       " 'data': 2,\n",
       " 'structure': 2,\n",
       " 'which': 2,\n",
       " 'implements': 1,\n",
       " 'an': 3,\n",
       " 'associative': 1,\n",
       " 'array': 2,\n",
       " 'abstract': 1,\n",
       " 'type,': 1,\n",
       " 'that': 1,\n",
       " 'can': 2,\n",
       " 'keys': 1,\n",
       " 'to': 2,\n",
       " 'values.': 1,\n",
       " 'uses': 1,\n",
       " 'function': 1,\n",
       " 'compute': 1,\n",
       " 'index': 1,\n",
       " 'into': 1,\n",
       " 'of': 1,\n",
       " 'buckets': 1,\n",
       " 'or': 1,\n",
       " 'slots': 1,\n",
       " 'from': 1,\n",
       " 'the': 1,\n",
       " 'desired': 1,\n",
       " 'value': 1,\n",
       " 'be': 1,\n",
       " 'found': 1}"
      ]
     },
     "execution_count": 172,
     "metadata": {},
     "output_type": "execute_result"
    }
   ],
   "source": [
    "a_text = 'In computing, a hash table hash map is a data structure which implements an associative array abstract data type, a structure that can map keys to values. A hash table uses a hash function to compute an index into an array of buckets or slots from which the desired value can be found'\n",
    "\n",
    "\n",
    "def search(str):\n",
    "    counts = {}\n",
    "    words = str.lower().split()\n",
    "    for word in words:\n",
    "        if word in counts:\n",
    "            counts[word] +=1\n",
    "        else:\n",
    "            counts[word] = 1\n",
    "    return counts\n",
    "    \n",
    "    \n",
    "search(a_text)\n",
    "\n",
    "\n",
    "\n"
   ]
  },
  {
   "cell_type": "markdown",
   "metadata": {},
   "source": [
    "## Exercise #3\n",
    "\n",
    "Write a program to implement a Linear Search Algorithm. Also in a comment, write the Time Complexity of the following algorithm.\n",
    "\n",
    "#### Hint: Linear Searching will require searching a list for a given number. "
   ]
  },
  {
   "cell_type": "code",
   "execution_count": 124,
   "metadata": {},
   "outputs": [
    {
     "name": "stdout",
     "output_type": "stream",
     "text": [
      "0 not in list\n"
     ]
    }
   ],
   "source": [
    "# dont worry about time complexity\n",
    "array = [10, 20, 80, 30, 60, 50, 110, 100, 130, 170]\n",
    "\n",
    "def linearsearch(arr, target):\n",
    "    for x in range(len(arr)):\n",
    "        if target == arr[x]:\n",
    "            print(f'target found at position {arr[x]}')\n",
    "            return x\n",
    "    return print(f\"{target} not in list\")\n",
    "\n",
    "linearsearch(array, 0)\n",
    "        "
   ]
  },
  {
   "cell_type": "code",
   "execution_count": null,
   "metadata": {},
   "outputs": [],
   "source": []
  }
 ],
 "metadata": {
  "kernelspec": {
   "display_name": "Python 3 (ipykernel)",
   "language": "python",
   "name": "python3"
  },
  "language_info": {
   "codemirror_mode": {
    "name": "ipython",
    "version": 3
   },
   "file_extension": ".py",
   "mimetype": "text/x-python",
   "name": "python",
   "nbconvert_exporter": "python",
   "pygments_lexer": "ipython3",
   "version": "3.11.5"
  }
 },
 "nbformat": 4,
 "nbformat_minor": 2
}
